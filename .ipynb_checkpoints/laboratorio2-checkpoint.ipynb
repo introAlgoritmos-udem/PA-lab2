{
 "cells": [
  {
   "cell_type": "markdown",
   "id": "d31a5234",
   "metadata": {},
   "source": [
    "[![Open In Colab](https://colab.research.google.com/assets/colab-badge.svg)](https://colab.research.google.com/github/introAlgoritmos-udem/PA-lab1/blob/main/laboratorio1.ipynb)"
   ]
  },
  {
   "cell_type": "markdown",
   "id": "cb0efaf4",
   "metadata": {},
   "source": [
    "# Introducción a la logica de programación"
   ]
  },
  {
   "cell_type": "markdown",
   "id": "5b4a1ed7",
   "metadata": {},
   "source": [
    "## Objetivos\n",
    "1. Plantear algoritmos básicos mediante el uso de diagramas de flujo.\n",
    "2. Comprender el concepto de programación secuencial.\n",
    "3. Aprender a usar un IDE python para codificar programas.\n",
    "\n",
    "## Ejemplos de clase\n",
    "\n",
    "A continuación se muestran varios ejemplos hechos en clase"
   ]
  },
  {
   "cell_type": "markdown",
   "id": "c12a0dae",
   "metadata": {},
   "source": [
    "### Prueba de escritorio\n",
    "\n",
    "Dado el diagrama de flujo de la figura, hacer la prueba de escritorio y a partir de esta determinar los valores finales de las variables y la salida en pantalla. Luego realizar la codificación en python.\n",
    "\n",
    "![prueba_escritorio](ejemplo_prueba_escritorio.png)"
   ]
  },
  {
   "cell_type": "code",
   "execution_count": 2,
   "id": "2892cd91",
   "metadata": {},
   "outputs": [],
   "source": [
    "# Digite aqui su solución (luego veremos como)"
   ]
  },
  {
   "cell_type": "markdown",
   "id": "f62b6302",
   "metadata": {},
   "source": [
    "### Condicionales"
   ]
  },
  {
   "cell_type": "markdown",
   "id": "68f6fe01",
   "metadata": {},
   "source": [
    "1. Moe con el fin de incentivar su negocio organizo una noche de solos y solas. Los precios que fijo fueron de $10000 para los hombres y de la mitad de este valor para las mujeres. Hacer un programa que de acuerdo al sexo de la persona que asista muestre el precio de la entrada al bar de Moe."
   ]
  },
  {
   "cell_type": "markdown",
   "id": "d5fb5f80",
   "metadata": {},
   "source": [
    "#### Solución empleando condicional simple\n",
    "\n",
    "A continuación se muestra el diagrama de flujo solución:\n",
    "\n",
    "![ejemplo1_simple](ejemplo1_simple.png)\n",
    "\n",
    "**Actividad**: Realizar la codificación en python."
   ]
  },
  {
   "cell_type": "code",
   "execution_count": 3,
   "id": "614119a4",
   "metadata": {},
   "outputs": [],
   "source": [
    "# Digite aqui su solución"
   ]
  },
  {
   "cell_type": "markdown",
   "id": "ba020728",
   "metadata": {},
   "source": [
    "#### Solución empleando condicional doble\n",
    "\n",
    "A continuación se muestra el diagrama de flujo solución:\n",
    "\n",
    "![ejemplo1_doble](ejemplo1_doble.png)\n",
    "\n",
    "**Actividad**: Realizar la codificación en python."
   ]
  },
  {
   "cell_type": "code",
   "execution_count": 4,
   "id": "41ac2554",
   "metadata": {},
   "outputs": [],
   "source": [
    "# Digite aqui su solución (luego veremos como)"
   ]
  },
  {
   "attachments": {},
   "cell_type": "markdown",
   "id": "22311fd1",
   "metadata": {},
   "source": [
    "2. En una empresa le dan a los empleados un subsidio de transporte si el sueldo base de estos es menor que el salario mínimo, este subsidio es el 30% del sueldo base. Hacer un algoritmo que calcule el salario neto de un empleado (sueldo base mas prestaciones si el empleado tiene derecho a estas). Los datos de entrada son la cedula y el sueldo base."
   ]
  },
  {
   "attachments": {},
   "cell_type": "markdown",
   "id": "b165b63f",
   "metadata": {},
   "source": [
    "#### Solución empleando condicional simple\n",
    "\n",
    "A continuación se muestra la solución empleando una estructura condicional sencilla:\n",
    "\n",
    "![ejemplo2_simple](ejemplo2_simple.png)\n",
    "\n",
    "**Actividad**: Realizar la codificación en python."
   ]
  },
  {
   "cell_type": "code",
   "execution_count": 5,
   "id": "b25465c0",
   "metadata": {},
   "outputs": [],
   "source": [
    "# Digite aqui su solución (luego veremos como)"
   ]
  },
  {
   "cell_type": "markdown",
   "id": "e75248ee",
   "metadata": {},
   "source": [
    "#### Solución empleando condicional doble\n",
    "\n",
    "A continuación se muestra la solución empleando una estructura condicional doble:\n",
    "\n",
    "![ejemplo2_doble](ejemplo2_doble.png)\n",
    "\n",
    "**Actividad**: Realizar la codificación en python."
   ]
  },
  {
   "cell_type": "code",
   "execution_count": 6,
   "id": "ed8e1593",
   "metadata": {},
   "outputs": [],
   "source": [
    "# Digite aqui su solución (luego veremos como)"
   ]
  },
  {
   "attachments": {},
   "cell_type": "markdown",
   "id": "09ec26d7",
   "metadata": {},
   "source": [
    "3. Hacer un programa que verifique si un usuario dado es hombre o mujer.\n",
    "\n",
    "A continuación se muestra el diagrama de flujo solución:\n",
    "\n",
    "![ejemplo3](ejemplo3.png)\n",
    "\n",
    "**Actividad**: Realizar la codificación en python."
   ]
  },
  {
   "cell_type": "code",
   "execution_count": 7,
   "id": "e7d78c15",
   "metadata": {},
   "outputs": [],
   "source": [
    "# Digite aqui su solución (luego veremos como)"
   ]
  },
  {
   "cell_type": "markdown",
   "id": "d010c2f2",
   "metadata": {},
   "source": [
    "4. Realizar un algoritmo que averigüe si de dos números por teclado el segundo es divisor del primero.\n",
    "\n",
    "A continuación se muestra el diagrama de flujo solución:\n",
    "\n",
    "![ejemplo4](ejemplo4.png)\n",
    "\n",
    "**Actividad**: Realizar la codificación en python."
   ]
  },
  {
   "cell_type": "code",
   "execution_count": 8,
   "id": "9985d1cf",
   "metadata": {},
   "outputs": [],
   "source": [
    "# Digite aqui su solución (luego veremos como)"
   ]
  },
  {
   "attachments": {},
   "cell_type": "markdown",
   "id": "80a83933",
   "metadata": {},
   "source": [
    "### Ejercicios de refuerzo\n",
    "1. Escribir un programa que solicite al usuario introducir dos números distintos. Si el primer número introducido es mayor que el segundo número, el programa debe imprimir el mensaje **El primer número es el mayor**, en caso contrario el programa debe imprimir el mensaje **El primer número es el más pequeño**."
   ]
  },
  {
   "cell_type": "code",
   "execution_count": 9,
   "id": "68def355",
   "metadata": {},
   "outputs": [],
   "source": [
    "# Digite aqui su solución (luego veremos como)"
   ]
  },
  {
   "attachments": {},
   "cell_type": "markdown",
   "id": "33febdc3",
   "metadata": {},
   "source": [
    "2. Calcular la raíz cuadrada de un número y escribir su resultado. Recuerde que a un numero negativo no se le puede sacar raíz cuadrada. "
   ]
  },
  {
   "cell_type": "code",
   "execution_count": 10,
   "id": "b6cf1131",
   "metadata": {},
   "outputs": [],
   "source": [
    "# Digite aqui su solución (luego veremos como)"
   ]
  },
  {
   "attachments": {},
   "cell_type": "markdown",
   "id": "21395aff",
   "metadata": {},
   "source": [
    "3. Hacer un programa que calcule el valor de la siguiente función:\n",
    "\n",
    "$$\n",
    "f(x)=\\left\\{\\begin{matrix}\n",
    "x^2 - x & ;x\\le 0\\\\ \n",
    "-x^2+3x & ;x > 0\n",
    "\\end{matrix}\\right.\n",
    "$$"
   ]
  },
  {
   "cell_type": "code",
   "execution_count": 11,
   "id": "43780f30",
   "metadata": {},
   "outputs": [],
   "source": [
    "# Digite aqui su solución (luego veremos como)"
   ]
  },
  {
   "attachments": {},
   "cell_type": "markdown",
   "id": "1b179e5e",
   "metadata": {},
   "source": [
    "4. Hacer un programa que solicite dos números diferentes de tal manera que si el primero es mayor que el primero, los deje igual; y si el segundo es mayor que el primero, los intercambie."
   ]
  },
  {
   "cell_type": "code",
   "execution_count": 12,
   "id": "6dc92502",
   "metadata": {},
   "outputs": [],
   "source": [
    "# Digite aqui su solución (luego veremos como)"
   ]
  },
  {
   "cell_type": "markdown",
   "id": "80a5baaf",
   "metadata": {},
   "source": [
    "5. Determinar el precio del billete de ida y vuelta en avión, conociendo la distancia a recorrer y sabiendo que si el número de días de estancia es superior a 7 y la distancia superior a 800 km el billete tiene una reducción del 30 por 100. El precio por km es de 2.5 euros."
   ]
  },
  {
   "cell_type": "code",
   "execution_count": 13,
   "id": "d9b54d40",
   "metadata": {},
   "outputs": [],
   "source": [
    "# Digite aqui su solución (luego veremos como)"
   ]
  }
 ],
 "metadata": {
  "kernelspec": {
   "display_name": "Python 3",
   "language": "python",
   "name": "python3"
  },
  "language_info": {
   "codemirror_mode": {
    "name": "ipython",
    "version": 3
   },
   "file_extension": ".py",
   "mimetype": "text/x-python",
   "name": "python",
   "nbconvert_exporter": "python",
   "pygments_lexer": "ipython3",
   "version": "3.8.8"
  }
 },
 "nbformat": 4,
 "nbformat_minor": 5
}
